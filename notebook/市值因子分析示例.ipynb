{
 "cells": [
  {
   "cell_type": "markdown",
   "metadata": {},
   "source": [
    " # 单因子分析：规模因子 (Size Factor)\n",
    "\n",
    "**目标**: 本 Notebook 旨在演示如何使用本框架对一个因子进行完整的回测与分析。\n",
    "\n",
    "**核心思想**: 我们将遵循《因子投资：方法与实践》中定义的标准因子测试流程。该流程的核心是：\n",
    "1.  **数据准备**: 加载并清洗干净的股票行情与财务数据。\n",
    "2.  **因子计算**: 计算我们感兴趣的因子——在这里是规模因子（对数市值）。\n",
    "3.  **分组回测**: 在每个时间点，根据因子值将所有股票排序并分为N组（例如5组），然后观察每组的未来收益表现。\n",
    "4.  **业绩分析**: 通过多空组合（做多因子值最高组，做空因子值最低组）的净值曲线、年化收益、夏普比率等指标来评估因子的有效性。"
   ]
  },
  {
   "cell_type": "code",
   "execution_count": null,
   "metadata": {},
   "outputs": [],
   "source": [
    "# -- 步骤 0: 导入必要的库并设置项目路径 --\n",
    "import pandas as pd\n",
    "import numpy as np\n",
    "import os\n",
    "import sys\n",
    "import matplotlib.pyplot as plt\n",
    "\n",
    "# 设置matplotlib以支持中文显示\n",
    "plt.rcParams['font.sans-serif'] = ['SimHei']  \n",
    "plt.rcParams['axes.unicode_minus'] = False  \n",
    "\n",
    "# 将项目根目录添加到Python的模块搜索路径中\n",
    "project_root = os.path.abspath(os.path.join(os.getcwd(), '..'))\n",
    "if project_root not in sys.path:\n",
    "    sys.path.append(project_root)\n",
    "    \n",
    "# 从项目中导入我们需要的模块\n",
    "from data_manager.loader import load_and_clean_data\n",
    "from factor_library.fundamental.size_factor import SizeFactor\n",
    "from backtest_engine.engine import BacktestEngine\n",
    "from backtest_engine.performance import PerformanceAnalyzer\n",
    "\n",
    "print(f\"项目根目录已设置为: {project_root}\")"
   ]
  },
  {
   "cell_type": "markdown",
   "metadata": {},
   "source": [
    "### 步骤 1: 加载并清洗数据\n",
    "我们首先调用 `data_manager` 模块中的 `load_and_clean_data` 函数来获取一个干净、对齐的 `master_data` 数据框。这是所有因子计算的基础。"
   ]
  },
  {
   "cell_type": "code",
   "execution_count": null,
   "metadata": {},
   "outputs": [],
   "source": [
    "DATA_DIR_PATH = os.path.join(project_root, \"data_manager\", \"DemoData\")\n",
    "\n",
    "master_df, index_df = load_and_clean_data(DATA_DIR_PATH)\n",
    "\n",
    "if master_df is not None:\n",
    "    print(\"\\n主数据加载成功，预览:\")\n",
    "    display(master_df.head())"
   ]
  },
  {
   "cell_type": "markdown",
   "metadata": {},
   "source": [
    "### 步骤 2: 计算规模因子\n",
    "我们实例化 `SizeFactor` 类，并将 `master_df` 传入。然后调用 `calculate_factor` 方法来获得因子值。\n",
    "\n",
    "**理论依据**: 根据《因子投资：方法与实践》，规模因子是经典的股票风格因子之一。通常使用总市值的对数值来代表，这样做可以降低极端值的影响，使数据分布更接近正态分布。"
   ]
  },
  {
   "cell_type": "code",
   "execution_count": null,
   "metadata": {},
   "outputs": [],
   "source": [
    "size_calculator = SizeFactor(master_df)\n",
    "size_factor_df = size_calculator.calculate_factor()\n",
    "\n",
    "print(\"\\n规模因子计算完成，预览:\")\n",
    "display(size_factor_df.head())"
   ]
  },
  {
   "cell_type": "markdown",
   "metadata": {},
   "source": [
    "### 步骤 3: 运行分组回测\n",
    "接下来，我们将 `master_df` 和计算出的 `size_factor_df` 传入 `BacktestEngine`。在这里，我们需要做出一个关键的假设：\n",
    "- `long_direction`: 这个参数决定了我们是做多因子值大的一组还是小的一组。\n",
    "  - `'high'`: 做多因子值最高的组 (Group 5)。\n",
    "  - `'low'`: 做多因子值最低的组 (Group 1)。\n",
    "\n",
    "对于规模因子，学术界存在争议。经典的Fama-French三因子模型认为小市值公司有超额收益（应设为`'low'`）。但在A股市场的某些阶段，大盘股表现更优（应设为`'high'`）。**我们先假设大市值股票收益更高，设置为`'high'`，通过回测来验证这个假设。**"
   ]
  },
  {
   "cell_type": "code",
   "execution_count": null,
   "metadata": {},
   "outputs": [],
   "source": [
    "backtest = BacktestEngine(\n",
    "    master_data=master_df, \n",
    "    factor_data=size_factor_df, \n",
    "    n_groups=5, \n",
    "    long_direction='high' # 假设做多大市值组合\n",
    ")\n",
    "\n",
    "portfolio_returns = backtest.run()\n",
    "\n",
    "print(\"\\n回测完成，各投资组合每日收益率预览：\")\n",
    "display(portfolio_returns.head())"
   ]
  },
  {
   "cell_type": "markdown",
   "metadata": {},
   "source": [
    "### 步骤 4: 性能分析与可视化\n",
    "最后，我们使用 `PerformanceAnalyzer` 对回测结果进行全面的分析。它会自动计算年化收益、夏普比率、最大回撤等关键指标，并绘制净值曲线图、分组收益图和IC分析图等。"
   ]
  },
  {
   "cell_type": "code",
   "execution_count": null,
   "metadata": {},
   "outputs": [],
   "source": [
    "if portfolio_returns is not None:\n",
    "    # 将所有需要的数据传入分析器\n",
    "    analyzer = PerformanceAnalyzer(portfolio_returns, size_factor_df, master_df)\n",
    "    \n",
    "    # 1. 计算各项性能指标\n",
    "    analyzer.calculate_metrics()\n",
    "    \n",
    "    # 2. 绘制图表\n",
    "    analyzer.plot_results()"
   ]
  },
  {
   "cell_type": "markdown",
   "metadata": {},
   "source": [
    "### 结论解读\n",
    "\n",
    "根据输出的图表和指标，我们可以对规模因子在回测期间的表现做出判断：\n",
    "- **净值曲线 (`Cumulative Returns`)**: `Long_Only`（做多大市值组合）和 `Long_Short`（多空对冲）组合的净值是否长期向上？如果`Long_Short`组合净值持续稳定上升，说明因子具有较好的单调性和选股能力。\n",
    "- **分组收益 (`Group Cumulative Returns`)**: 从Group 1到Group 5的最终净值是否呈现单调递增或递减的趋势？对于我们`long_direction='high'`的假设，我们期望看到Group 5的收益显著高于其他组，特别是Group 1。\n",
    "- **IC分析 (`Information Coefficient Analysis`)**: IC代表了因子预测未来收益的能力。IC的均值是否显著大于0？IC的t检验p值是否小于0.05？这些都能量化地告诉我们因子的有效性。\n",
    "\n",
    "通过这个标准化的流程，我们可以对任何新想到的因子进行快速、严谨的检验。"
   ]
  }
 ],
 "metadata": {
  "kernelspec": {
   "display_name": "Python 3",
   "language": "python",
   "name": "python3"
  },
  "language_info": {
   "codemirror_mode": {
    "name": "ipython",
    "version": 3
   },
   "file_extension": ".py",
   "mimetype": "text/x-python",
   "name": "python",
   "nbconvert_exporter": "python",
   "pygments_lexer": "ipython3",
   "version": "3.9.7"
  }
 },
 "nbformat": 4,
 "nbformat_minor": 4
}